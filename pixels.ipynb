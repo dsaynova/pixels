{
 "cells": [
  {
   "cell_type": "code",
   "execution_count": 10,
   "metadata": {},
   "outputs": [],
   "source": [
    "from PIL import Image\n",
    "import numpy as np\n",
    "import matplotlib.pyplot as plt\n",
    "\n",
    "#sklearn models\n",
    "from sklearn.cluster import KMeans\n",
    "from sklearn.mixture import GaussianMixture\n",
    "from sklearn.neighbors import KNeighborsClassifier"
   ]
  },
  {
   "cell_type": "code",
   "execution_count": 2,
   "metadata": {},
   "outputs": [],
   "source": [
    "#image\n",
    "name = 'ppl/test01'\n",
    "#number of clusters\n",
    "n=5"
   ]
  },
  {
   "cell_type": "code",
   "execution_count": 3,
   "metadata": {
    "scrolled": true
   },
   "outputs": [],
   "source": [
    "#open image and read dimentions\n",
    "im = Image.open(str(name)+'.jpg')\n",
    "pix_array = np.asarray(im)\n",
    "x = np.shape(pix_array)[0]\n",
    "y = np.shape(pix_array)[1]"
   ]
  },
  {
   "cell_type": "code",
   "execution_count": 4,
   "metadata": {},
   "outputs": [],
   "source": [
    "#get features\n",
    "x_data = []\n",
    "for i in range(x):\n",
    "    for j in range(y):\n",
    "        temp = []\n",
    "        temp.append(pix_array[i][j][0])\n",
    "        temp.append(pix_array[i][j][1])\n",
    "        temp.append(pix_array[i][j][2])\n",
    "        #temp.append(pix_array[i][j][0]/max(1,pix_array[i][j][1]))\n",
    "        #temp.append(pix_array[i][j][0]/max(1,pix_array[i][j][2]))\n",
    "        #temp.append(pix_array[i][j][1]/max(1,pix_array[i][j][2]))\n",
    "        #temp.append(max(pix_array[i][j][0],pix_array[i][j][1],pix_array[i][j][2]))\n",
    "        #temp.append(i)\n",
    "        #temp.append(j)\n",
    "        x_data.append(temp)"
   ]
  },
  {
   "cell_type": "markdown",
   "metadata": {},
   "source": [
    "### Kmeans"
   ]
  },
  {
   "cell_type": "code",
   "execution_count": 5,
   "metadata": {},
   "outputs": [],
   "source": [
    "#train kmeans\n",
    "kmeans = KMeans(n_clusters=n, init='random',  max_iter=100, n_init=50, algorithm='full').fit(x_data)\n",
    "y_pred = kmeans.predict(x_data)"
   ]
  },
  {
   "cell_type": "code",
   "execution_count": 6,
   "metadata": {},
   "outputs": [],
   "source": [
    "#save result\n",
    "#take average of group as the colour\n",
    "im_new = Image.new('RGB', (y,x))\n",
    "pix_new = im_new.load()\n",
    "\n",
    "for i in range(x):\n",
    "    for j in range(y):\n",
    "        temp_arr = kmeans.cluster_centers_[y_pred[i*y+j],0:3]\n",
    "        r = int(temp_arr[0])\n",
    "        g = int(temp_arr[1])\n",
    "        b = int(temp_arr[2])\n",
    "        pix_new[j,i] = (r,g,b)\n",
    "        \n",
    "im_new.save(str(name)+str(n)+'km.jpg')\n"
   ]
  },
  {
   "cell_type": "markdown",
   "metadata": {},
   "source": [
    "### GMM"
   ]
  },
  {
   "cell_type": "code",
   "execution_count": 7,
   "metadata": {},
   "outputs": [],
   "source": [
    "#train gmm\n",
    "gmm = GaussianMixture(n_components=n, n_init = 10, covariance_type = 'full', random_state = 42).fit(x_data)\n",
    "y_pred = gmm.predict(x_data)"
   ]
  },
  {
   "cell_type": "code",
   "execution_count": 8,
   "metadata": {},
   "outputs": [],
   "source": [
    "#save result\n",
    "#take average of group as the colour\n",
    "im_new = Image.new('RGB', (y,x))\n",
    "pix_new = im_new.load()\n",
    "\n",
    "for i in range(x):\n",
    "    for j in range(y):\n",
    "        temp_arr = gmm.means_[y_pred[i*y+j],0:3]\n",
    "        r = int(temp_arr[0])\n",
    "        g = int(temp_arr[1])\n",
    "        b = int(temp_arr[2])\n",
    "        pix_new[j,i] = (r,g,b)\n",
    "        \n",
    "im_new.save(str(name)+str(n)+'gmm.jpg')"
   ]
  },
  {
   "cell_type": "markdown",
   "metadata": {},
   "source": [
    "### KNN"
   ]
  },
  {
   "cell_type": "code",
   "execution_count": null,
   "metadata": {},
   "outputs": [],
   "source": []
  }
 ],
 "metadata": {
  "kernelspec": {
   "display_name": "Python 3",
   "language": "python",
   "name": "python3"
  },
  "language_info": {
   "codemirror_mode": {
    "name": "ipython",
    "version": 3
   },
   "file_extension": ".py",
   "mimetype": "text/x-python",
   "name": "python",
   "nbconvert_exporter": "python",
   "pygments_lexer": "ipython3",
   "version": "3.7.0"
  }
 },
 "nbformat": 4,
 "nbformat_minor": 2
}
